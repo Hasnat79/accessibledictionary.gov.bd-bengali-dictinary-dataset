{
 "cells": [
  {
   "cell_type": "markdown",
   "metadata": {},
   "source": [
    "# Web scraper for accessibledictionary.gov.bd"
   ]
  },
  {
   "cell_type": "markdown",
   "metadata": {},
   "source": [
    "##### import necessary libraries"
   ]
  },
  {
   "cell_type": "code",
   "execution_count": 121,
   "metadata": {},
   "outputs": [],
   "source": [
    "from bs4 import BeautifulSoup as bs\n",
    "import requests\n",
    "from tqdm import tqdm\n",
    "import re"
   ]
  },
  {
   "cell_type": "markdown",
   "metadata": {},
   "source": [
    "#### Load \"Bengali to Enlish\" dictionary 1st page\n",
    "there are several pages"
   ]
  },
  {
   "cell_type": "code",
   "execution_count": null,
   "metadata": {},
   "outputs": [],
   "source": [
    "site=\"https://accessibledictionary.gov.bd/bengali-to-english/?alp=%E0%A6%85\"\n",
    "r=requests.get(site)\n",
    "\n",
    "#convert to a beautiful soup object\n",
    "\n",
    "soup = bs(r.content)\n",
    "\n",
    "#print out the HTML\n",
    "\n",
    "contents = soup.prettify()\n",
    "\n",
    "# print(contents)"
   ]
  },
  {
   "cell_type": "markdown",
   "metadata": {},
   "source": [
    "##### Getting all the link of all the banlga alphabets from অ to হ"
   ]
  },
  {
   "cell_type": "code",
   "execution_count": 72,
   "metadata": {
    "collapsed": true,
    "jupyter": {
     "outputs_hidden": true
    }
   },
   "outputs": [
    {
     "data": {
      "text/plain": [
       "['https://accessibledictionary.gov.bd/bengali-to-english/?alp=অ',\n",
       " 'https://accessibledictionary.gov.bd/bengali-to-english/?alp=আ',\n",
       " 'https://accessibledictionary.gov.bd/bengali-to-english/?alp=ই',\n",
       " 'https://accessibledictionary.gov.bd/bengali-to-english/?alp=ঈ',\n",
       " 'https://accessibledictionary.gov.bd/bengali-to-english/?alp=উ',\n",
       " 'https://accessibledictionary.gov.bd/bengali-to-english/?alp=ঊ',\n",
       " 'https://accessibledictionary.gov.bd/bengali-to-english/?alp=ঋ',\n",
       " 'https://accessibledictionary.gov.bd/bengali-to-english/?alp=এ',\n",
       " 'https://accessibledictionary.gov.bd/bengali-to-english/?alp=ঐ',\n",
       " 'https://accessibledictionary.gov.bd/bengali-to-english/?alp=ও',\n",
       " 'https://accessibledictionary.gov.bd/bengali-to-english/?alp=ঔ',\n",
       " 'https://accessibledictionary.gov.bd/bengali-to-english/?alp=ক',\n",
       " 'https://accessibledictionary.gov.bd/bengali-to-english/?alp=খ',\n",
       " 'https://accessibledictionary.gov.bd/bengali-to-english/?alp=গ',\n",
       " 'https://accessibledictionary.gov.bd/bengali-to-english/?alp=ঘ',\n",
       " 'https://accessibledictionary.gov.bd/bengali-to-english/?alp=ঙ',\n",
       " 'https://accessibledictionary.gov.bd/bengali-to-english/?alp=চ',\n",
       " 'https://accessibledictionary.gov.bd/bengali-to-english/?alp=ছ',\n",
       " 'https://accessibledictionary.gov.bd/bengali-to-english/?alp=জ',\n",
       " 'https://accessibledictionary.gov.bd/bengali-to-english/?alp=ঝ',\n",
       " 'https://accessibledictionary.gov.bd/bengali-to-english/?alp=ঞ',\n",
       " 'https://accessibledictionary.gov.bd/bengali-to-english/?alp=ট',\n",
       " 'https://accessibledictionary.gov.bd/bengali-to-english/?alp=ঠ',\n",
       " 'https://accessibledictionary.gov.bd/bengali-to-english/?alp=ড',\n",
       " 'https://accessibledictionary.gov.bd/bengali-to-english/?alp=ঢ',\n",
       " 'https://accessibledictionary.gov.bd/bengali-to-english/?alp=ণ',\n",
       " 'https://accessibledictionary.gov.bd/bengali-to-english/?alp=ত',\n",
       " 'https://accessibledictionary.gov.bd/bengali-to-english/?alp=থ',\n",
       " 'https://accessibledictionary.gov.bd/bengali-to-english/?alp=দ',\n",
       " 'https://accessibledictionary.gov.bd/bengali-to-english/?alp=ধ',\n",
       " 'https://accessibledictionary.gov.bd/bengali-to-english/?alp=ন',\n",
       " 'https://accessibledictionary.gov.bd/bengali-to-english/?alp=প',\n",
       " 'https://accessibledictionary.gov.bd/bengali-to-english/?alp=ফ',\n",
       " 'https://accessibledictionary.gov.bd/bengali-to-english/?alp=ব',\n",
       " 'https://accessibledictionary.gov.bd/bengali-to-english/?alp=ভ',\n",
       " 'https://accessibledictionary.gov.bd/bengali-to-english/?alp=ম',\n",
       " 'https://accessibledictionary.gov.bd/bengali-to-english/?alp=য',\n",
       " 'https://accessibledictionary.gov.bd/bengali-to-english/?alp=র',\n",
       " 'https://accessibledictionary.gov.bd/bengali-to-english/?alp=ল',\n",
       " 'https://accessibledictionary.gov.bd/bengali-to-english/?alp=শ',\n",
       " 'https://accessibledictionary.gov.bd/bengali-to-english/?alp=ষ',\n",
       " 'https://accessibledictionary.gov.bd/bengali-to-english/?alp=স',\n",
       " 'https://accessibledictionary.gov.bd/bengali-to-english/?alp=হ']"
      ]
     },
     "execution_count": 72,
     "metadata": {},
     "output_type": "execute_result"
    }
   ],
   "source": [
    "alphabet_links=[]\n",
    "alphabet_box =soup.find(class_=\"alphabet\")\n",
    "alphs=alphabet_box.find_all('a')\n",
    "for index,row in enumerate(alphs):\n",
    "    link=row.get('href')\n",
    "#     print(link)\n",
    "    alphabet_links.append(link)\n",
    "\n",
    "alphabet_links"
   ]
  },
  {
   "cell_type": "markdown",
   "metadata": {},
   "source": [
    "##### getting page numbers for each alphabet"
   ]
  },
  {
   "cell_type": "code",
   "execution_count": 86,
   "metadata": {
    "collapsed": true,
    "jupyter": {
     "outputs_hidden": true
    }
   },
   "outputs": [
    {
     "name": "stdout",
     "output_type": "stream",
     "text": [
      "Case no: 0: done\n",
      "Case no: 1: done\n",
      "Case no: 2: done\n",
      "Case no: 3: done\n",
      "Case no: 4: done\n",
      "Case no: 5: done\n",
      "Case no: 6: done\n",
      "Case no: 7: done\n",
      "Case no: 8: done\n",
      "Case no: 9: done\n",
      "Case no: 10: done\n",
      "Case no: 11: done\n",
      "Case no: 12: done\n",
      "Case no: 13: done\n",
      "Case no: 14: done\n",
      "Case no: 15: done\n",
      "Case no: 16: done\n",
      "Case no: 17: done\n",
      "Case no: 18: done\n",
      "Case no: 19: done\n",
      "Case no: 20: done\n",
      "Case no: 21: done\n",
      "Case no: 22: done\n",
      "Case no: 23: done\n",
      "Case no: 24: done\n",
      "Case no: 25: done\n",
      "Case no: 26: done\n",
      "Case no: 27: done\n",
      "Case no: 28: done\n",
      "Case no: 29: done\n",
      "Case no: 30: done\n",
      "Case no: 31: done\n",
      "Case no: 32: done\n",
      "Case no: 33: done\n",
      "Case no: 34: done\n",
      "Case no: 35: done\n",
      "Case no: 36: done\n",
      "Case no: 37: done\n",
      "Case no: 38: done\n",
      "Case no: 39: done\n",
      "Case no: 40: done\n",
      "Case no: 41: done\n",
      "Case no: 42: done\n"
     ]
    },
    {
     "data": {
      "text/plain": [
       "{'https://accessibledictionary.gov.bd/bengali-to-english/?alp=অ': 48,\n",
       " 'https://accessibledictionary.gov.bd/bengali-to-english/?alp=আ': 30,\n",
       " 'https://accessibledictionary.gov.bd/bengali-to-english/?alp=ই': 7,\n",
       " 'https://accessibledictionary.gov.bd/bengali-to-english/?alp=ঈ': 1,\n",
       " 'https://accessibledictionary.gov.bd/bengali-to-english/?alp=উ': 16,\n",
       " 'https://accessibledictionary.gov.bd/bengali-to-english/?alp=ঊ': 1,\n",
       " 'https://accessibledictionary.gov.bd/bengali-to-english/?alp=ঋ': 1,\n",
       " 'https://accessibledictionary.gov.bd/bengali-to-english/?alp=এ': 13,\n",
       " 'https://accessibledictionary.gov.bd/bengali-to-english/?alp=ঐ': 1,\n",
       " 'https://accessibledictionary.gov.bd/bengali-to-english/?alp=ও': 3,\n",
       " 'https://accessibledictionary.gov.bd/bengali-to-english/?alp=ঔ': 1,\n",
       " 'https://accessibledictionary.gov.bd/bengali-to-english/?alp=ক': 46,\n",
       " 'https://accessibledictionary.gov.bd/bengali-to-english/?alp=খ': 11,\n",
       " 'https://accessibledictionary.gov.bd/bengali-to-english/?alp=গ': 18,\n",
       " 'https://accessibledictionary.gov.bd/bengali-to-english/?alp=ঘ': 6,\n",
       " 'https://accessibledictionary.gov.bd/bengali-to-english/?alp=ঙ': 1,\n",
       " 'https://accessibledictionary.gov.bd/bengali-to-english/?alp=চ': 19,\n",
       " 'https://accessibledictionary.gov.bd/bengali-to-english/?alp=ছ': 8,\n",
       " 'https://accessibledictionary.gov.bd/bengali-to-english/?alp=জ': 26,\n",
       " 'https://accessibledictionary.gov.bd/bengali-to-english/?alp=ঝ': 5,\n",
       " 'https://accessibledictionary.gov.bd/bengali-to-english/?alp=ঞ': 1,\n",
       " 'https://accessibledictionary.gov.bd/bengali-to-english/?alp=ট': 6,\n",
       " 'https://accessibledictionary.gov.bd/bengali-to-english/?alp=ঠ': 3,\n",
       " 'https://accessibledictionary.gov.bd/bengali-to-english/?alp=ড': 4,\n",
       " 'https://accessibledictionary.gov.bd/bengali-to-english/?alp=ঢ': 3,\n",
       " 'https://accessibledictionary.gov.bd/bengali-to-english/?alp=ণ': 1,\n",
       " 'https://accessibledictionary.gov.bd/bengali-to-english/?alp=ত': 27,\n",
       " 'https://accessibledictionary.gov.bd/bengali-to-english/?alp=থ': 2,\n",
       " 'https://accessibledictionary.gov.bd/bengali-to-english/?alp=দ': 33,\n",
       " 'https://accessibledictionary.gov.bd/bengali-to-english/?alp=ধ': 11,\n",
       " 'https://accessibledictionary.gov.bd/bengali-to-english/?alp=ন': 44,\n",
       " 'https://accessibledictionary.gov.bd/bengali-to-english/?alp=প': 100,\n",
       " 'https://accessibledictionary.gov.bd/bengali-to-english/?alp=ফ': 14,\n",
       " 'https://accessibledictionary.gov.bd/bengali-to-english/?alp=ব': 86,\n",
       " 'https://accessibledictionary.gov.bd/bengali-to-english/?alp=ভ': 23,\n",
       " 'https://accessibledictionary.gov.bd/bengali-to-english/?alp=ম': 49,\n",
       " 'https://accessibledictionary.gov.bd/bengali-to-english/?alp=য': 10,\n",
       " 'https://accessibledictionary.gov.bd/bengali-to-english/?alp=র': 21,\n",
       " 'https://accessibledictionary.gov.bd/bengali-to-english/?alp=ল': 17,\n",
       " 'https://accessibledictionary.gov.bd/bengali-to-english/?alp=শ': 25,\n",
       " 'https://accessibledictionary.gov.bd/bengali-to-english/?alp=ষ': 1,\n",
       " 'https://accessibledictionary.gov.bd/bengali-to-english/?alp=স': 87,\n",
       " 'https://accessibledictionary.gov.bd/bengali-to-english/?alp=হ': 22}"
      ]
     },
     "execution_count": 86,
     "metadata": {},
     "output_type": "execute_result"
    }
   ],
   "source": [
    "''' alph_and_page_numbers_info dictionary \n",
    "    key= link of each alphabet\n",
    "    value= number of pages available for that alphabet(int)\n",
    "'''\n",
    "alph_and_page_numbers_info={}\n",
    "\n",
    "# pagitation_box=soup.find(class_=\"pagination\")\n",
    "# page_numbers=pagitation_box.find_all('li')\n",
    "# page_numbers[-2].get_text()\n",
    "for index,link in enumerate(alphabet_links):\n",
    "    r=requests.get(link)\n",
    "    soup = bs(r.content)\n",
    "    \n",
    "    if soup.find(class_=\"pagination\"):\n",
    "        \n",
    "        pagitation_box=soup.find(class_=\"pagination\")\n",
    "        page_numbers=pagitation_box.find_all('li')\n",
    "\n",
    "        no_of_pages=int(page_numbers[-2].get_text())\n",
    "    else:\n",
    "        no_of_pages=1\n",
    "    alph_and_page_numbers_info [link] =no_of_pages\n",
    "    \n",
    "    print(f\"Case no: {index}: done\")\n",
    "    \n",
    "alph_and_page_numbers_info\n",
    "    \n"
   ]
  },
  {
   "cell_type": "markdown",
   "metadata": {},
   "source": [
    "##### Getting contents for a single alphabet: অ\n"
   ]
  },
  {
   "cell_type": "code",
   "execution_count": 126,
   "metadata": {},
   "outputs": [
    {
     "name": "stdout",
     "output_type": "stream",
     "text": [
      "অ\n",
      "[]\n",
      "[]\n",
      "[]\n",
      "[]\n",
      "[]\n",
      "[]\n",
      "[]\n",
      "[]\n",
      "[]\n",
      "[]\n",
      "[]\n",
      "[]\n",
      "[]\n",
      "[]\n",
      "[]\n",
      "[]\n",
      "[]\n",
      "[]\n",
      "[]\n",
      "[]\n",
      "[]\n",
      "[]\n",
      "[]\n",
      "[]\n",
      "[]\n",
      "[]\n",
      "[]\n",
      "[]\n",
      "[]\n",
      "[]\n"
     ]
    }
   ],
   "source": [
    "alph=alphabet_links[0][-1]\n",
    "print(alph)\n",
    "page=1\n",
    "\n",
    "\n",
    "site=f\"https://accessibledictionary.gov.bd/bengali-to-english/?alp={alph}&page={page}\"\n",
    "\n",
    "dictionary_info={}\n",
    "\n",
    "r=requests.get(site)\n",
    "soup = bs(r.content)\n",
    "\n",
    "# print(soup.title.get_text()\n",
    "\n",
    "article_box=soup.find(class_=\"dicDisplay\")\n",
    "word_list=article_box.find(\"ul\")\n",
    "words=word_list.find_all(\"li\")\n",
    "for list in words:\n",
    "#     meanings=list.find(\"em\")\n",
    "#     print(meanings.text)\n",
    "    "
   ]
  },
  {
   "cell_type": "code",
   "execution_count": 94,
   "metadata": {},
   "outputs": [
    {
     "name": "stdout",
     "output_type": "stream",
     "text": [
      "hello\n"
     ]
    }
   ],
   "source": [
    "\n"
   ]
  },
  {
   "cell_type": "code",
   "execution_count": null,
   "metadata": {},
   "outputs": [],
   "source": []
  }
 ],
 "metadata": {
  "kernelspec": {
   "display_name": "Python 3 (ipykernel)",
   "language": "python",
   "name": "python3"
  },
  "language_info": {
   "codemirror_mode": {
    "name": "ipython",
    "version": 3
   },
   "file_extension": ".py",
   "mimetype": "text/x-python",
   "name": "python",
   "nbconvert_exporter": "python",
   "pygments_lexer": "ipython3",
   "version": "3.8.5"
  }
 },
 "nbformat": 4,
 "nbformat_minor": 4
}
